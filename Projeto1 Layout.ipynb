{
 "cells": [
  {
   "cell_type": "markdown",
   "metadata": {},
   "source": [
    "\n",
    "\n",
    "\n",
    "___\n",
    "# Ciência dos Dados - PROJETO 1"
   ]
  },
  {
   "cell_type": "markdown",
   "metadata": {},
   "source": [
    "## Roberto Franco\n",
    "___"
   ]
  },
  {
   "cell_type": "markdown",
   "metadata": {},
   "source": [
    "## TÍTULO DO SEU PROJETO"
   ]
  },
  {
   "cell_type": "markdown",
   "metadata": {},
   "source": [
    "___\n",
    "## Introdução\n",
    "\n",
    "Descreva aqui o que pretende analisar!\n",
    "\n",
    "Capriche no português!! \n",
    "Se quiser pode utilizar pesquisas semelhantes publicadas em sites confiáveis!!\n"
   ]
  },
  {
   "cell_type": "markdown",
   "metadata": {},
   "source": [
    "___\n",
    "## Análise e Resultados"
   ]
  },
  {
   "cell_type": "code",
   "execution_count": 12,
   "metadata": {
    "collapsed": true
   },
   "outputs": [],
   "source": [
    "%matplotlib inline\n",
    "import pandas as pd\n",
    "import matplotlib.pyplot as plt\n",
    "import numpy as np\n",
    "import os"
   ]
  },
  {
   "cell_type": "code",
   "execution_count": 13,
   "metadata": {
    "scrolled": true
   },
   "outputs": [
    {
     "name": "stdout",
     "output_type": "stream",
     "text": [
      "Esperamos trabalhar no diretório\n",
      "D:\\betof\\Documents\\ciencia dos dados\\GIT\\Ciencia_dos_dados\n"
     ]
    }
   ],
   "source": [
    "print('Esperamos trabalhar no diretório')\n",
    "print(os.getcwd())"
   ]
  },
  {
   "cell_type": "code",
   "execution_count": 14,
   "metadata": {
    "collapsed": true
   },
   "outputs": [],
   "source": [
    "#Se usar o arquivo descompactado\n",
    "#pd.read_csv('DOM2015.csv',sep=',')\n",
    "\n",
    "#Se usar o arquivo compactado como está no dropbox púbico\n",
    "#pd.read_csv('DOM2015csv.zip', compression='zip', header=0, sep=',', quotechar='\"')"
   ]
  },
  {
   "cell_type": "code",
   "execution_count": 15,
   "metadata": {},
   "outputs": [],
   "source": [
    "dados_2013 = pd.read_excel('DOM_2013.xlsx') # lendo a planilha\n",
    "\n",
    "DR_2013 = dados_2013.loc[3:,[\"Column3\",\"Column29\",\"Column50\",\"Column56\",\"Column57\",\"Column58\",\"Column78\"]] # escolhendo as colunas"
   ]
  },
  {
   "cell_type": "code",
   "execution_count": 16,
   "metadata": {
    "collapsed": true
   },
   "outputs": [],
   "source": [
    "DR_2013.Column3 = DR_2013.Column3.astype('category')\n",
    "DR_2013.Column29 = DR_2013.Column29.astype('category')\n",
    "DR_2013.Column50 = DR_2013.Column50.astype('category')\n",
    "DR_2013.Column56 = DR_2013.Column56.astype('category')\n",
    "DR_2013.Column57 = DR_2013.Column57.astype('category')\n",
    "DR_2013.Column58 = DR_2013.Column58.astype('category')\n",
    "DR_2013.Column78 = DR_2013.Column78.astype('float')\n",
    "\n",
    "DR_2013.columns = [\"UF\", \"CELULAR\", \"NET_DOM\", \"NET_3G\",\"NET_TEL\",\"NET_BL\",\"RENDA\"] # alterando os nomes das colunas\n",
    "\n",
    "# alterando as variaveis: \n",
    "DR_2013.CELULAR.cat.categories = (['Sim', 'Nao'])\n",
    "DR_2013.NET_DOM.cat.categories = ([\"Sim\",\"Nao\"])\n",
    "DR_2013.NET_3G.cat.categories = ([\"Sim\",\"Nao\"])\n",
    "DR_2013.NET_TEL.cat.categories = ([\"Sim\",\"Nao\"])\n",
    "DR_2013.NET_BL.cat.categories = ([\"Sim\",\"Nao\"])\n",
    "\n",
    "DR_2013.to_csv(\"Dados_resumidos_2013\") # salvar no excel\n",
    "DR_2013 = DR_2013[DR_2013.RENDA!=999999999999] # tirando os dados invalidos (9999999999)"
   ]
  },
  {
   "cell_type": "code",
   "execution_count": 75,
   "metadata": {},
   "outputs": [
    {
     "data": {
      "image/png": "[encoded data removed]",
      "text/plain": [
       "<matplotlib.figure.Figure at 0x1f8ab7af358>"
      ]
     },
     "metadata": {},
     "output_type": "display_data"
    },
    {
     "data": {
      "text/plain": [
       "<matplotlib.axes._subplots.AxesSubplot at 0x1f8b23d3780>"
      ]
     },
     "execution_count": 75,
     "metadata": {},
     "output_type": "execute_result"
    },
    {
     "data": {
      "image/png": "[encoded data removed]",
      "text/plain": [
       "<matplotlib.figure.Figure at 0x1f8ae232550>"
      ]
     },
     "metadata": {},
     "output_type": "display_data"
    }
   ],
   "source": [
    "ct_celular_por= pd.crosstab(DR_2013.UF, DR_2013.CELULAR,normalize=\"index\") # porcentagem  de celulares por estado \n",
    "ct_celular.plot(kind='bar', color=('blue', 'red'),legend=True)\n",
    "plt.show()\n",
    "ct_celular_por.plot(kind='bar', color=('blue', 'red'),legend=True) # em porcentagem por estado"
   ]
  },
  {
   "cell_type": "code",
   "execution_count": 25,
   "metadata": {},
   "outputs": [
    {
     "data": {
      "text/plain": [
       "<matplotlib.axes._subplots.AxesSubplot at 0x1f8ab9676d8>"
      ]
     },
     "execution_count": 25,
     "metadata": {},
     "output_type": "execute_result"
    },
    {
     "data": {
      "image/png": "[encoded data removed]",
      "text/plain": [
       "<matplotlib.figure.Figure at 0x1f8a8c86c18>"
      ]
     },
     "metadata": {},
     "output_type": "display_data"
    }
   ],
   "source": [
    "ct_celular_por.plot(kind='bar', color=('blue', 'red'),legend=True) # em porcentagem por estado"
   ]
  },
  {
   "cell_type": "code",
   "execution_count": 26,
   "metadata": {
    "collapsed": true
   },
   "outputs": [],
   "source": [
    "ct_net_dom = pd.crosstab(DR_2013.UF, DR_2013.NET_DOM) # por estado\n",
    "\n",
    "ct_net_dom_por= pd.crosstab(DR_2013.UF, DR_2013.NET_DOM,normalize=\"index\") # porcentagem por estado "
   ]
  },
  {
   "cell_type": "code",
   "execution_count": 27,
   "metadata": {},
   "outputs": [
    {
     "data": {
      "text/plain": [
       "<matplotlib.axes._subplots.AxesSubplot at 0x1f8b254cda0>"
      ]
     },
     "execution_count": 27,
     "metadata": {},
     "output_type": "execute_result"
    },
    {
     "data": {
      "image/png": "[encoded data removed]",
      "text/plain": [
       "<matplotlib.figure.Figure at 0x1f8afb0ea20>"
      ]
     },
     "metadata": {},
     "output_type": "display_data"
    }
   ],
   "source": [
    "ct_net_dom_por.plot(kind='bar', color=('blue', 'red'),legend=True) # em porcentagem "
   ]
  },
  {
   "cell_type": "code",
   "execution_count": 44,
   "metadata": {},
   "outputs": [],
   "source": [
    "DR_2013.RENDA.describe()\n",
    "#faixa = range(0,82000,1000)\n",
    "faixa = [0, 500, 1000, 2000,3000,5000, 10000, 20000, 82000] # FAZER POR SALARIO - CLASSE SALARIAL\n",
    "\n",
    "faixa_classes = [162,291,441,641,1019,2480,82000] # segundo G1: http://g1.globo.com/economia/seu-dinheiro/noticia/2013/08/veja-diferencas-entre-conceitos-que-definem-classes-sociais-no-brasil.html\n",
    "RENDA_cat = pd.cut(DR_2013.RENDA, bins=faixa)\n",
    "RENDA_cat_classes = pd.cut(DR_2013.RENDA, bins=faixa_classes)\n",
    "\n",
    "RENDA_FAIXA = RENDA_cat.value_counts()\n",
    "RENDA_FAIXA_CLASSES = RENDA_cat_classes.value_counts()\n",
    "\n",
    "DR_2013[\"FAIXA_RENDA\"] = RENDA_cat # criando uma nova coluna\n",
    "DR_2013[\"FAIXA_RENDA_CLASSES\"] = RENDA_cat_classes # criando uma nova coluna \n",
    "\n",
    "DR_2013.FAIXA_RENDA_CLASSES.cat.categories = (['vuneravel', 'baixa classe M', 'media classe M','alta classe M','baixa classe A','alta classe A'])\n",
    "\n"
   ]
  },
  {
   "cell_type": "code",
   "execution_count": 46,
   "metadata": {},
   "outputs": [],
   "source": [
    "# porcentagem de pessoas que possuem as variáveis, por faixas de renda\n",
    "\n",
    "ct_renda_net = pd.crosstab(DR_2013.FAIXA_RENDA, DR_2013.NET_DOM,normalize=\"index\")*100\n",
    "\n",
    "ct_renda_3G = pd.crosstab(DR_2013.FAIXA_RENDA, DR_2013.NET_3G,normalize=\"index\")*100\n",
    "\n",
    "ct_renda_celular= pd.crosstab(DR_2013.FAIXA_RENDA, DR_2013.CELULAR,normalize=\"index\")*100\n",
    "\n",
    "ct_renda_net_tel = pd.crosstab(DR_2013.FAIXA_RENDA, DR_2013.NET_TEL,normalize=\"index\")*100\n",
    "\n",
    "ct_renda_net_bl = pd.crosstab(DR_2013.FAIXA_RENDA, DR_2013.NET_BL,normalize=\"index\")*100\n"
   ]
  },
  {
   "cell_type": "code",
   "execution_count": 47,
   "metadata": {},
   "outputs": [
    {
     "data": {
      "text/plain": [
       "<matplotlib.axes._subplots.AxesSubplot at 0x1f8aa4a77b8>"
      ]
     },
     "execution_count": 47,
     "metadata": {},
     "output_type": "execute_result"
    },
    {
     "data": {
      "image/png": "[encoded data removed]",
      "text/plain": [
       "<matplotlib.figure.Figure at 0x1f8b2d52470>"
      ]
     },
     "metadata": {},
     "output_type": "display_data"
    }
   ],
   "source": [
    "ct_renda_net.plot(kind='bar', color=('blue', 'red'),legend=True)"
   ]
  },
  {
   "cell_type": "code",
   "execution_count": 48,
   "metadata": {},
   "outputs": [
    {
     "data": {
      "text/plain": [
       "<matplotlib.axes._subplots.AxesSubplot at 0x1f8ae547e10>"
      ]
     },
     "execution_count": 48,
     "metadata": {},
     "output_type": "execute_result"
    },
    {
     "data": {
      "image/png": "[encoded data removed]",
      "text/plain": [
       "<matplotlib.figure.Figure at 0x1f8b1050f60>"
      ]
     },
     "metadata": {},
     "output_type": "display_data"
    }
   ],
   "source": [
    "ct_renda_celular.plot(kind='bar', color=('blue', 'red'),legend=True)"
   ]
  },
  {
   "cell_type": "code",
   "execution_count": 49,
   "metadata": {},
   "outputs": [
    {
     "data": {
      "text/plain": [
       "<matplotlib.axes._subplots.AxesSubplot at 0x1f8b126fac8>"
      ]
     },
     "execution_count": 49,
     "metadata": {},
     "output_type": "execute_result"
    },
    {
     "data": {
      "image/png": "[encoded data removed]",
      "text/plain": [
       "<matplotlib.figure.Figure at 0x1f8aa2fa588>"
      ]
     },
     "metadata": {},
     "output_type": "display_data"
    }
   ],
   "source": [
    "ct_renda_3G.plot(kind='bar', color=('blue', 'red'),legend=True)"
   ]
  },
  {
   "cell_type": "code",
   "execution_count": 50,
   "metadata": {},
   "outputs": [
    {
     "data": {
      "text/plain": [
       "<matplotlib.axes._subplots.AxesSubplot at 0x1f8aa484f60>"
      ]
     },
     "execution_count": 50,
     "metadata": {},
     "output_type": "execute_result"
    },
    {
     "data": {
      "image/png": "[encoded data removed]",
      "text/plain": [
       "<matplotlib.figure.Figure at 0x1f8ab76b2b0>"
      ]
     },
     "metadata": {},
     "output_type": "display_data"
    }
   ],
   "source": [
    "ct_renda_net_tel.plot(kind='bar', color=('blue', 'red'),legend=True)"
   ]
  },
  {
   "cell_type": "code",
   "execution_count": 51,
   "metadata": {},
   "outputs": [
    {
     "data": {
      "text/plain": [
       "<matplotlib.axes._subplots.AxesSubplot at 0x1f8aba4d6a0>"
      ]
     },
     "execution_count": 51,
     "metadata": {},
     "output_type": "execute_result"
    },
    {
     "data": {
      "image/png": "[encoded data removed]",
      "text/plain": [
       "<matplotlib.figure.Figure at 0x1f8ab7997f0>"
      ]
     },
     "metadata": {},
     "output_type": "display_data"
    }
   ],
   "source": [
    "ct_renda_net_bl.plot(kind='bar', color=('blue', 'red'),legend=True)"
   ]
  },
  {
   "cell_type": "code",
   "execution_count": 72,
   "metadata": {},
   "outputs": [],
   "source": [
    "DF = DR_2013[DR_2013.NET_DOM == 'Sim'].iloc[:,3:6]\n"
   ]
  },
  {
   "cell_type": "code",
   "execution_count": 64,
   "metadata": {},
   "outputs": [
    {
     "data": {
      "text/html": [
       "<div>\n",
       "<style>\n",
       "    .dataframe thead tr:only-child th {\n",
       "        text-align: right;\n",
       "    }\n",
       "\n",
       "    .dataframe thead th {\n",
       "        text-align: left;\n",
       "    }\n",
       "\n",
       "    .dataframe tbody tr th {\n",
       "        vertical-align: top;\n",
       "    }\n",
       "</style>\n",
       "<table border=\"1\" class=\"dataframe\">\n",
       "  <thead>\n",
       "    <tr style=\"text-align: right;\">\n",
       "      <th>NET_BL</th>\n",
       "      <th>Sim</th>\n",
       "      <th>Nao</th>\n",
       "    </tr>\n",
       "    <tr>\n",
       "      <th>NET_DOM</th>\n",
       "      <th></th>\n",
       "      <th></th>\n",
       "    </tr>\n",
       "  </thead>\n",
       "  <tbody>\n",
       "    <tr>\n",
       "      <th>Sim</th>\n",
       "      <td>74.23301</td>\n",
       "      <td>25.76699</td>\n",
       "    </tr>\n",
       "    <tr>\n",
       "      <th>Nao</th>\n",
       "      <td>0.00000</td>\n",
       "      <td>0.00000</td>\n",
       "    </tr>\n",
       "  </tbody>\n",
       "</table>\n",
       "</div>"
      ],
      "text/plain": [
       "NET_BL        Sim       Nao\n",
       "NET_DOM                    \n",
       "Sim      74.23301  25.76699\n",
       "Nao       0.00000   0.00000"
      ]
     },
     "execution_count": 64,
     "metadata": {},
     "output_type": "execute_result"
    }
   ],
   "source": [
    "ct_net = pd.crosstab(DR_2013.NET_DOM, DR_2013.NET_BL,normalize=\"index\")*100\n",
    "ct_net"
   ]
  },
  {
   "cell_type": "code",
   "execution_count": 57,
   "metadata": {},
   "outputs": [
    {
     "data": {
      "text/html": [
       "<div>\n",
       "<style>\n",
       "    .dataframe thead tr:only-child th {\n",
       "        text-align: right;\n",
       "    }\n",
       "\n",
       "    .dataframe thead th {\n",
       "        text-align: left;\n",
       "    }\n",
       "\n",
       "    .dataframe tbody tr th {\n",
       "        vertical-align: top;\n",
       "    }\n",
       "</style>\n",
       "<table border=\"1\" class=\"dataframe\">\n",
       "  <thead>\n",
       "    <tr style=\"text-align: right;\">\n",
       "      <th>NET_TEL</th>\n",
       "      <th>Sim</th>\n",
       "      <th>Nao</th>\n",
       "    </tr>\n",
       "    <tr>\n",
       "      <th>NET_DOM</th>\n",
       "      <th></th>\n",
       "      <th></th>\n",
       "    </tr>\n",
       "  </thead>\n",
       "  <tbody>\n",
       "    <tr>\n",
       "      <th>Sim</th>\n",
       "      <td>4.554517</td>\n",
       "      <td>95.445483</td>\n",
       "    </tr>\n",
       "    <tr>\n",
       "      <th>Nao</th>\n",
       "      <td>0.000000</td>\n",
       "      <td>0.000000</td>\n",
       "    </tr>\n",
       "  </tbody>\n",
       "</table>\n",
       "</div>"
      ],
      "text/plain": [
       "NET_TEL       Sim        Nao\n",
       "NET_DOM                     \n",
       "Sim      4.554517  95.445483\n",
       "Nao      0.000000   0.000000"
      ]
     },
     "execution_count": 57,
     "metadata": {},
     "output_type": "execute_result"
    }
   ],
   "source": [
    "ct_net2 = pd.crosstab(DR_2013.NET_DOM, DR_2013.NET_TEL,normalize=\"index\")*100\n",
    "ct_net2"
   ]
  },
  {
   "cell_type": "code",
   "execution_count": 58,
   "metadata": {},
   "outputs": [
    {
     "data": {
      "text/html": [
       "<div>\n",
       "<style>\n",
       "    .dataframe thead tr:only-child th {\n",
       "        text-align: right;\n",
       "    }\n",
       "\n",
       "    .dataframe thead th {\n",
       "        text-align: left;\n",
       "    }\n",
       "\n",
       "    .dataframe tbody tr th {\n",
       "        vertical-align: top;\n",
       "    }\n",
       "</style>\n",
       "<table border=\"1\" class=\"dataframe\">\n",
       "  <thead>\n",
       "    <tr style=\"text-align: right;\">\n",
       "      <th>NET_3G</th>\n",
       "      <th>Sim</th>\n",
       "      <th>Nao</th>\n",
       "    </tr>\n",
       "    <tr>\n",
       "      <th>NET_DOM</th>\n",
       "      <th></th>\n",
       "      <th></th>\n",
       "    </tr>\n",
       "  </thead>\n",
       "  <tbody>\n",
       "    <tr>\n",
       "      <th>Sim</th>\n",
       "      <td>46.301996</td>\n",
       "      <td>53.698004</td>\n",
       "    </tr>\n",
       "    <tr>\n",
       "      <th>Nao</th>\n",
       "      <td>0.000000</td>\n",
       "      <td>0.000000</td>\n",
       "    </tr>\n",
       "  </tbody>\n",
       "</table>\n",
       "</div>"
      ],
      "text/plain": [
       "NET_3G         Sim        Nao\n",
       "NET_DOM                      \n",
       "Sim      46.301996  53.698004\n",
       "Nao       0.000000   0.000000"
      ]
     },
     "execution_count": 58,
     "metadata": {},
     "output_type": "execute_result"
    }
   ],
   "source": [
    "ct_net3 = pd.crosstab(DR_2013.NET_DOM, DR_2013.NET_3G,normalize=\"index\")*100\n",
    "ct_net3"
   ]
  },
  {
   "cell_type": "code",
   "execution_count": 34,
   "metadata": {},
   "outputs": [
    {
     "data": {
      "text/plain": [
       "<matplotlib.axes._subplots.AxesSubplot at 0x1f8a8c76940>"
      ]
     },
     "execution_count": 34,
     "metadata": {},
     "output_type": "execute_result"
    },
    {
     "data": {
      "image/png": "[encoded data removed]",
      "text/plain": [
       "<matplotlib.figure.Figure at 0x1f8a8f145c0>"
      ]
     },
     "metadata": {},
     "output_type": "display_data"
    }
   ],
   "source": [
    "ct_renda_net_por_classes = pd.crosstab(DR_2013.FAIXA_RENDA_CLASSES, DR_2013.NET_DOM,normalize=\"index\")  # porcentagem de pessoas que possuem internet em domicilio, por faixas de renda\n",
    "ct_renda_net_por_classes.plot(kind='bar', color=('blue', 'red'),legend=True) # por classes"
   ]
  },
  {
   "cell_type": "code",
   "execution_count": 35,
   "metadata": {},
   "outputs": [],
   "source": [
    "dfsim = pd.DataFrame(DR_2013[DR_2013.NET_DOM == \"Sim\"].iloc[:,-2])\n",
    "dfnao = pd.DataFrame(DR_2013[DR_2013.NET_DOM == \"Nao\"].iloc[:,-2])\n",
    "#dfsim"
   ]
  },
  {
   "cell_type": "code",
   "execution_count": 36,
   "metadata": {},
   "outputs": [],
   "source": [
    "#grafico = dfsim.plot(kind=\"hist\")\n",
    "#plotnao = dfnao.plot(kind=\"hist\") #ax=grafico)"
   ]
  },
  {
   "cell_type": "code",
   "execution_count": 37,
   "metadata": {},
   "outputs": [],
   "source": [
    "# HISTOGRAMA\n",
    "\n",
    "#ct_renda_net.plot(kind='hist', color=('blue', 'red'),legend=True)\n",
    "\n",
    "ct_NR = pd.crosstab(RENDA_cat, DR_2013.NET_DOM)\n"
   ]
  },
  {
   "cell_type": "code",
   "execution_count": 38,
   "metadata": {},
   "outputs": [
    {
     "data": {
      "text/plain": [
       "<matplotlib.axes._subplots.AxesSubplot at 0x1f8a8c1bef0>"
      ]
     },
     "execution_count": 38,
     "metadata": {},
     "output_type": "execute_result"
    },
    {
     "data": {
      "image/png": "[encoded data removed]",
      "text/plain": [
       "<matplotlib.figure.Figure at 0x1f8a5cb64a8>"
      ]
     },
     "metadata": {},
     "output_type": "display_data"
    }
   ],
   "source": [
    "ct_NR.plot(kind='hist', color=('blue', 'red'),legend=True,bins = faixa, normed = True)"
   ]
  },
  {
   "cell_type": "markdown",
   "metadata": {},
   "source": [
    "___\n",
    "## Conclusão "
   ]
  },
  {
   "cell_type": "code",
   "execution_count": null,
   "metadata": {
    "collapsed": true
   },
   "outputs": [],
   "source": []
  },
  {
   "cell_type": "code",
   "execution_count": null,
   "metadata": {
    "collapsed": true
   },
   "outputs": [],
   "source": []
  },
  {
   "cell_type": "code",
   "execution_count": null,
   "metadata": {
    "collapsed": true
   },
   "outputs": [],
   "source": []
  },
  {
   "cell_type": "markdown",
   "metadata": {
    "collapsed": true
   },
   "source": [
    "Descreva aqui suas conclusões!"
   ]
  },
  {
   "cell_type": "code",
   "execution_count": null,
   "metadata": {
    "collapsed": true
   },
   "outputs": [],
   "source": []
  }
 ],
 "metadata": {
  "anaconda-cloud": {},
  "kernelspec": {
   "display_name": "Python 3",
   "language": "python",
   "name": "python3"
  },
  "language_info": {
   "codemirror_mode": {
    "name": "ipython",
    "version": 3
   },
   "file_extension": ".py",
   "mimetype": "text/x-python",
   "name": "python",
   "nbconvert_exporter": "python",
   "pygments_lexer": "ipython3",
   "version": "3.6.1"
  }
 },
 "nbformat": 4,
 "nbformat_minor": 1
}
